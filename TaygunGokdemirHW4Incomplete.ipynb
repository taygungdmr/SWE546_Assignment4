{
 "cells": [
  {
   "cell_type": "code",
   "execution_count": 1,
   "metadata": {
    "collapsed": false
   },
   "outputs": [
    {
     "name": "stderr",
     "output_type": "stream",
     "text": [
      "C:\\Users\\t_gokdemir\\AppData\\Local\\Continuum\\Anaconda3\\lib\\site-packages\\ipykernel\\__main__.py:5: ParserWarning: Falling back to the 'python' engine because the 'c' engine does not support regex separators; you can avoid this warning by specifying engine='python'.\n"
     ]
    }
   ],
   "source": [
    "import pandas as pd\n",
    "import numpy as np\n",
    "\n",
    "rnames = ['user_id', 'movie_id', 'rating', 'timestamp'] \n",
    "ratings = pd.read_table('ml-1m/ratings.dat', sep='::', header=None, names=rnames)"
   ]
  },
  {
   "cell_type": "code",
   "execution_count": null,
   "metadata": {
    "collapsed": false
   },
   "outputs": [
    {
     "name": "stdout",
     "output_type": "stream",
     "text": [
      "[[ 0.38717641]\n",
      " [ 0.25882855]\n",
      " [ 0.39702936]\n",
      " ..., \n",
      " [ 0.09197576]\n",
      " [ 0.39182253]\n",
      " [ 0.52776805]]\n",
      "[[ 0.99018605  0.06129156  0.18621941 ...,  0.45014223  0.61495759\n",
      "   0.26954268]]\n",
      "1.69780962501e+18\n",
      "1.69780962501e+18"
     ]
    }
   ],
   "source": [
    "Nr = 6000 \n",
    "Nc = 3000\n",
    "\n",
    "A = np.mat(np.random.rand(Nr, 1))\n",
    "B = np.mat(np.random.rand(1, Nc))\n",
    "\n",
    "print(A)\n",
    "print(B)\n",
    "\n",
    "EPOCH = 5\n",
    "Eta = 0.1\n",
    "eta = Eta\n",
    "\n",
    "E = np.array(M)*np.array(Y - A*B)\n",
    "Err = np.sum(E*E)/np.sum(np.array(M))\n",
    "print(Err)\n",
    "\n",
    "Ysize = Ys.shape[0]\n",
    "for l in range(EPOCH):\n",
    "    E = np.array(M)*np.array(Y - A*B)\n",
    "    Err = np.sum(E*E)/np.sum(np.array(M))\n",
    "    print(Err)\n",
    "    for k in range(Ysize):\n",
    "        u = Ys[k,1]\n",
    "        m = Ys[k,2]\n",
    "        \n",
    "        err = Ys[k,0] - A[u,:]*B[:,m]\n",
    "        \n",
    "        temp_A = A[u,:] + eta*err[0,0]*B[:,m].T\n",
    "        B[:,m]   = B[:,m] + eta*err[0,0]*A[u,:].T\n",
    "        A[u,:]   = temp_A\n",
    "    \n",
    "    eta = Eta*1./(l+1)\n",
    "print(A*B)\n",
    "\n"
   ]
  }
 ],
 "metadata": {
  "kernelspec": {
   "display_name": "Python 3",
   "language": "python",
   "name": "python3"
  },
  "language_info": {
   "codemirror_mode": {
    "name": "ipython",
    "version": 3
   },
   "file_extension": ".py",
   "mimetype": "text/x-python",
   "name": "python",
   "nbconvert_exporter": "python",
   "pygments_lexer": "ipython3",
   "version": "3.5.1"
  }
 },
 "nbformat": 4,
 "nbformat_minor": 0
}
